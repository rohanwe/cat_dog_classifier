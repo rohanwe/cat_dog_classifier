{
  "nbformat": 4,
  "nbformat_minor": 0,
  "metadata": {
    "colab": {
      "name": "Copy of Untitled0.ipynb",
      "version": "0.3.2",
      "provenance": [],
      "collapsed_sections": [],
      "include_colab_link": true
    },
    "kernelspec": {
      "name": "python3",
      "display_name": "Python 3"
    }
  },
  "cells": [
    {
      "cell_type": "markdown",
      "metadata": {
        "id": "view-in-github",
        "colab_type": "text"
      },
      "source": [
        "[![Open In Colab](https://colab.research.google.com/assets/colab-badge.svg)](https://colab.research.google.com/github/manukj/CatDogClassifier/blob/master/CatandDog.ipynb)"
      ]
    },
    {
      "metadata": {
        "id": "ZXltkANAfHfV",
        "colab_type": "code",
        "colab": {
          "base_uri": "https://localhost:8080/",
          "height": 34
        },
        "outputId": "56e20d92-2305-4880-9c23-b6524c84d029"
      },
      "cell_type": "code",
      "source": [
        "from keras.preprocessing import image\n",
        "import os\n",
        "import numpy as np\n",
        "from keras.models import Sequential\n",
        "from keras.layers import Activation, Dropout, Flatten, Dense\n",
        "from keras.preprocessing.image import ImageDataGenerator\n",
        "from keras.layers import Convolution2D, MaxPooling2D, ZeroPadding2D\n",
        "from keras import optimizers\n"
      ],
      "execution_count": 1,
      "outputs": [
        {
          "output_type": "stream",
          "text": [
            "Using TensorFlow backend.\n"
          ],
          "name": "stderr"
        }
      ]
    },
    {
      "metadata": {
        "id": "hhm-Xurgalze",
        "colab_type": "code",
        "colab": {
          "base_uri": "https://localhost:8080/",
          "height": 122
        },
        "outputId": "a9fefeaf-ef75-41e2-b898-bf0f223fb59b"
      },
      "cell_type": "code",
      "source": [
        "! git clone https://github.com/manukj/CatDogClassifier.git"
      ],
      "execution_count": 4,
      "outputs": [
        {
          "output_type": "stream",
          "text": [
            "Cloning into 'CatDogClassifier'...\n",
            "remote: Enumerating objects: 1407, done.\u001b[K\n",
            "remote: Counting objects: 100% (1407/1407), done.\u001b[K\n",
            "remote: Compressing objects: 100% (1407/1407), done.\u001b[K\n",
            "remote: Total 1407 (delta 0), reused 1407 (delta 0), pack-reused 0\u001b[K\n",
            "Receiving objects: 100% (1407/1407), 30.55 MiB | 29.85 MiB/s, done.\n"
          ],
          "name": "stdout"
        }
      ]
    },
    {
      "metadata": {
        "id": "F78MWHdMbnrL",
        "colab_type": "code",
        "outputId": "39c06471-ad89-4488-da2d-cedd3b6dd5c6",
        "colab": {
          "base_uri": "https://localhost:8080/",
          "height": 52
        }
      },
      "cell_type": "code",
      "source": [
        "# dimensions of our images.\n",
        "img_width, img_height = 150, 150\n",
        "\n",
        "\n",
        "train_data_dir = 'CatDogClassifier/Train'\n",
        "validation_data_dir = 'CatDogClassifier/Test'\n",
        "\n",
        "# used to rescale the pixel values from [0, 255] to [0, 1] interval\n",
        "datagen = ImageDataGenerator(rescale=1./255)\n",
        "\n",
        "# automagically retrieve images and their classes for train and validation sets\n",
        "train_generator = datagen.flow_from_directory(\n",
        "        train_data_dir,\n",
        "        target_size=(img_width, img_height),\n",
        "        batch_size=16,\n",
        "        class_mode='binary')\n",
        "\n",
        "validation_generator = datagen.flow_from_directory(\n",
        "        validation_data_dir,\n",
        "        target_size=(img_width, img_height),\n",
        "        batch_size=32,\n",
        "        class_mode='binary')"
      ],
      "execution_count": 5,
      "outputs": [
        {
          "output_type": "stream",
          "text": [
            "Found 1399 images belonging to 2 classes.\n",
            "Found 64 images belonging to 2 classes.\n"
          ],
          "name": "stdout"
        }
      ]
    },
    {
      "metadata": {
        "id": "A7fko2i0bzHA",
        "colab_type": "code",
        "outputId": "c8e7e80c-efb5-4211-fb28-8a0f4f795229",
        "colab": {
          "base_uri": "https://localhost:8080/",
          "height": 142
        }
      },
      "cell_type": "code",
      "source": [
        "#creating a model\n",
        "\n",
        "model = Sequential()\n",
        "model.add(Convolution2D(32, 3, 3, input_shape=(img_width, img_height,3)))\n",
        "model.add(Activation('relu'))\n",
        "model.add(MaxPooling2D(pool_size = (2,2)))\n",
        "\n",
        "model.add(Convolution2D(32,3,3))\n",
        "model.add(Activation('relu'))\n",
        "model.add(MaxPooling2D(pool_size = (2,2)))\n",
        "\n",
        "model.add(Convolution2D(32,3,3))\n",
        "model.add(Activation('relu'))\n",
        "model.add(MaxPooling2D(pool_size = (2,2)))\n",
        "\n",
        "model.add(Flatten())\n",
        "model.add(Dense(64))\n",
        "model.add(Activation('relu'))\n",
        "model.add(Dropout(0.5))\n",
        "model.add(Dense(1))\n",
        "model.add(Activation('sigmoid'))"
      ],
      "execution_count": 6,
      "outputs": [
        {
          "output_type": "stream",
          "text": [
            "/usr/local/lib/python3.6/dist-packages/ipykernel_launcher.py:3: UserWarning: Update your `Conv2D` call to the Keras 2 API: `Conv2D(32, (3, 3), input_shape=(150, 150,...)`\n",
            "  This is separate from the ipykernel package so we can avoid doing imports until\n",
            "/usr/local/lib/python3.6/dist-packages/ipykernel_launcher.py:7: UserWarning: Update your `Conv2D` call to the Keras 2 API: `Conv2D(32, (3, 3))`\n",
            "  import sys\n",
            "/usr/local/lib/python3.6/dist-packages/ipykernel_launcher.py:11: UserWarning: Update your `Conv2D` call to the Keras 2 API: `Conv2D(32, (3, 3))`\n",
            "  # This is added back by InteractiveShellApp.init_path()\n"
          ],
          "name": "stderr"
        }
      ]
    },
    {
      "metadata": {
        "id": "ccMURPoJyDiX",
        "colab_type": "code",
        "colab": {}
      },
      "cell_type": "code",
      "source": [
        "model.compile(loss = 'binary_crossentropy',\n",
        "             optimizer = 'rmsprop',\n",
        "             metrics = ['accuracy'])"
      ],
      "execution_count": 0,
      "outputs": []
    },
    {
      "metadata": {
        "id": "qdU9XcK55yV1",
        "colab_type": "code",
        "colab": {}
      },
      "cell_type": "code",
      "source": [
        "nb_epoch = 20\n",
        "nb_train_samples = 1399\n",
        "nb_validation_samples = 64"
      ],
      "execution_count": 0,
      "outputs": []
    },
    {
      "metadata": {
        "id": "N3WnXu_f6BgO",
        "colab_type": "code",
        "colab": {
          "base_uri": "https://localhost:8080/",
          "height": 829
        },
        "outputId": "8e03ce1b-3605-4f09-c2e8-946aa6ff62b2"
      },
      "cell_type": "code",
      "source": [
        "model.fit_generator(\n",
        "        train_generator,\n",
        "        samples_per_epoch=nb_train_samples,\n",
        "        epochs=nb_epoch,\n",
        "        validation_data=validation_generator,\n",
        "       nb_val_samples=nb_validation_samples)"
      ],
      "execution_count": 9,
      "outputs": [
        {
          "output_type": "stream",
          "text": [
            "/usr/local/lib/python3.6/dist-packages/ipykernel_launcher.py:6: UserWarning: The semantics of the Keras 2 argument `steps_per_epoch` is not the same as the Keras 1 argument `samples_per_epoch`. `steps_per_epoch` is the number of batches to draw from the generator at each epoch. Basically steps_per_epoch = samples_per_epoch/batch_size. Similarly `nb_val_samples`->`validation_steps` and `val_samples`->`steps` arguments have changed. Update your method calls accordingly.\n",
            "  \n",
            "/usr/local/lib/python3.6/dist-packages/ipykernel_launcher.py:6: UserWarning: Update your `fit_generator` call to the Keras 2 API: `fit_generator(<keras.pre..., epochs=20, validation_data=<keras.pre..., steps_per_epoch=87, validation_steps=64)`\n",
            "  \n"
          ],
          "name": "stderr"
        },
        {
          "output_type": "stream",
          "text": [
            "Epoch 1/20\n",
            "87/87 [==============================] - 78s 902ms/step - loss: 0.7231 - acc: 0.5231 - val_loss: 0.6897 - val_acc: 0.5000\n",
            "Epoch 2/20\n",
            "87/87 [==============================] - 78s 901ms/step - loss: 0.6884 - acc: 0.5802 - val_loss: 0.6823 - val_acc: 0.6094\n",
            "Epoch 3/20\n",
            "87/87 [==============================] - 78s 900ms/step - loss: 0.6652 - acc: 0.6150 - val_loss: 0.6294 - val_acc: 0.6875\n",
            "Epoch 4/20\n",
            "87/87 [==============================] - 78s 899ms/step - loss: 0.6105 - acc: 0.6924 - val_loss: 0.5860 - val_acc: 0.7031\n",
            "Epoch 5/20\n",
            "87/87 [==============================] - 78s 900ms/step - loss: 0.5392 - acc: 0.7257 - val_loss: 0.5077 - val_acc: 0.7969\n",
            "Epoch 6/20\n",
            "87/87 [==============================] - 78s 901ms/step - loss: 0.5174 - acc: 0.7417 - val_loss: 0.4207 - val_acc: 0.8281\n",
            "Epoch 7/20\n",
            "87/87 [==============================] - 78s 894ms/step - loss: 0.4557 - acc: 0.7909 - val_loss: 0.4487 - val_acc: 0.8125\n",
            "Epoch 8/20\n",
            "87/87 [==============================] - 78s 900ms/step - loss: 0.4091 - acc: 0.8204 - val_loss: 0.2980 - val_acc: 0.8906\n",
            "Epoch 9/20\n",
            "87/87 [==============================] - 78s 894ms/step - loss: 0.3438 - acc: 0.8527 - val_loss: 0.2752 - val_acc: 0.8906\n",
            "Epoch 10/20\n",
            "87/87 [==============================] - 79s 908ms/step - loss: 0.3147 - acc: 0.8705 - val_loss: 0.1449 - val_acc: 0.9531\n",
            "Epoch 11/20\n",
            "87/87 [==============================] - 79s 905ms/step - loss: 0.2549 - acc: 0.8966 - val_loss: 0.1640 - val_acc: 0.9375\n",
            "Epoch 12/20\n",
            "87/87 [==============================] - 78s 898ms/step - loss: 0.2229 - acc: 0.9132 - val_loss: 0.2126 - val_acc: 0.9219\n",
            "Epoch 13/20\n",
            "87/87 [==============================] - 79s 902ms/step - loss: 0.1627 - acc: 0.9454 - val_loss: 0.2127 - val_acc: 0.9219\n",
            "Epoch 14/20\n",
            "87/87 [==============================] - 78s 902ms/step - loss: 0.1590 - acc: 0.9404 - val_loss: 0.0824 - val_acc: 0.9688\n",
            "Epoch 15/20\n",
            "87/87 [==============================] - 79s 904ms/step - loss: 0.1194 - acc: 0.9634 - val_loss: 0.0668 - val_acc: 0.9844\n",
            "Epoch 16/20\n",
            "87/87 [==============================] - 79s 907ms/step - loss: 0.1085 - acc: 0.9612 - val_loss: 0.0401 - val_acc: 0.9844\n",
            "Epoch 17/20\n",
            "87/87 [==============================] - 79s 904ms/step - loss: 0.0767 - acc: 0.9711 - val_loss: 0.0651 - val_acc: 0.9688\n",
            "Epoch 18/20\n",
            "87/87 [==============================] - 79s 909ms/step - loss: 0.0842 - acc: 0.9734 - val_loss: 0.0214 - val_acc: 1.0000\n",
            "Epoch 19/20\n",
            "87/87 [==============================] - 79s 905ms/step - loss: 0.0547 - acc: 0.9784 - val_loss: 0.0161 - val_acc: 1.0000\n",
            "Epoch 20/20\n",
            "87/87 [==============================] - 79s 904ms/step - loss: 0.0546 - acc: 0.9813 - val_loss: 0.0101 - val_acc: 1.0000\n"
          ],
          "name": "stdout"
        },
        {
          "output_type": "execute_result",
          "data": {
            "text/plain": [
              "<keras.callbacks.History at 0x7fc72d0c9f60>"
            ]
          },
          "metadata": {
            "tags": []
          },
          "execution_count": 9
        }
      ]
    },
    {
      "metadata": {
        "id": "ros_67l-K4IY",
        "colab_type": "code",
        "colab": {}
      },
      "cell_type": "code",
      "source": [
        "model.save_weights('basic_cnn_20_epochs.h5')"
      ],
      "execution_count": 0,
      "outputs": []
    },
    {
      "metadata": {
        "id": "ThnTN4XOe-Nz",
        "colab_type": "code",
        "colab": {
          "base_uri": "https://localhost:8080/",
          "height": 34
        },
        "outputId": "59418a25-b5a5-4241-b9c7-3402fdb8f276"
      },
      "cell_type": "code",
      "source": [
        "model.evaluate_generator(validation_generator, nb_validation_samples)"
      ],
      "execution_count": 11,
      "outputs": [
        {
          "output_type": "execute_result",
          "data": {
            "text/plain": [
              "[0.010080065301735885, 1.0]"
            ]
          },
          "metadata": {
            "tags": []
          },
          "execution_count": 11
        }
      ]
    },
    {
      "metadata": {
        "id": "075RMR_FfZnF",
        "colab_type": "code",
        "colab": {
          "base_uri": "https://localhost:8080/",
          "height": 385
        },
        "outputId": "a672b36f-c403-4388-fc27-a1fa26fe3ed5"
      },
      "cell_type": "code",
      "source": [
        "from PIL import Image\n",
        "from matplotlib.pyplot import imshow\n",
        "from urllib.request import urlopen\n",
        "import io\n",
        "\n",
        "\n",
        "fd = urlopen(\"https://encrypted-tbn0.gstatic.com/images?q=tbn:ANd9GcSy-68mb2E3qNJzPk0u8_7US_mfeWaskp68nRzmvGo5WFY6kXvJ\")\n",
        "image_file = io.BytesIO(fd.read())\n",
        "im = Image.open(image_file)\n",
        "\n",
        "\n",
        "newImage = im.resize((150, 150))\n",
        "im = np.asarray(newImage)\n",
        "imshow(im)\n",
        "im = im.reshape((1,150,150,3))\n",
        "print(im.shape)\n",
        "predict = model.predict(im)\n",
        "print(predict)\n"
      ],
      "execution_count": 13,
      "outputs": [
        {
          "output_type": "stream",
          "text": [
            "(1, 150, 150, 3)\n",
            "[[0.]]\n"
          ],
          "name": "stdout"
        },
        {
          "output_type": "display_data",
          "data": {
            "image/png": "[encoded data removed]",
            "text/plain": [
              "<matplotlib.figure.Figure at 0x7fc72bc1dc50>"
            ]
          },
          "metadata": {
            "tags": []
          }
        }
      ]
    }
  ]
}